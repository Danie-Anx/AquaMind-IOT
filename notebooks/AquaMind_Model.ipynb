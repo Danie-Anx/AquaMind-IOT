{
 "cells": [
  {
   "cell_type": "markdown",
   "id": "531c521e",
   "metadata": {},
   "source": [
    "# AquaMind – Pré-processamento e Modelagem\n",
    "\n",
    "Objetivos:\n",
    "1. Tratar dados (valores faltantes, outliers, normalização).\n",
    "2. Criar features temporais.\n",
    "3. Treinar e comparar 3 modelos (Regressão Linear, Árvore de Decisão, MLP).\n",
    "4. Justificar escolha do modelo final.\n",
    "5. Salvar e exportar o modelo.\n"
   ]
  },
  {
   "cell_type": "code",
   "execution_count": 27,
   "id": "c31e2805",
   "metadata": {},
   "outputs": [],
   "source": [
    "# 📦 1. Importar libs\n",
    "import pandas as pd\n",
    "import numpy as np\n",
    "from sklearn.model_selection import train_test_split, cross_val_score, KFold\n",
    "from sklearn.linear_model import LinearRegression\n",
    "from sklearn.tree import DecisionTreeRegressor\n",
    "from sklearn.neural_network import MLPRegressor\n",
    "from sklearn.preprocessing import StandardScaler\n",
    "from sklearn.metrics import mean_squared_error, r2_score\n",
    "import joblib\n",
    "\n",
    "# 📦 Imports para classificação\n",
    "from sklearn.linear_model    import LogisticRegression\n",
    "from sklearn.tree            import DecisionTreeClassifier\n",
    "from sklearn.ensemble        import RandomForestClassifier\n",
    "from sklearn.metrics         import accuracy_score"
   ]
  },
  {
   "cell_type": "code",
   "execution_count": 28,
   "id": "a7f45b82",
   "metadata": {},
   "outputs": [],
   "source": [
    "# 📥 2. Carregar dados\n",
    "df = pd.read_csv('../data/sensor_data.csv', parse_dates=['timestamp'])\n",
    "# 2.1 Remover linhas sem umidade ou temperatura\n",
    "df = df.dropna(subset=['soil_moisture','temperature'])"
   ]
  },
  {
   "cell_type": "code",
   "execution_count": 29,
   "id": "c1020352",
   "metadata": {},
   "outputs": [],
   "source": [
    "# 🔧 3. Tratamento de outliers (remover 3σ)\n",
    "from scipy import stats\n",
    "z = np.abs(stats.zscore(df[['soil_moisture','temperature']]))\n",
    "df = df[(z < 3).all(axis=1)]"
   ]
  },
  {
   "cell_type": "code",
   "execution_count": 30,
   "id": "3c0b6329",
   "metadata": {},
   "outputs": [],
   "source": [
    "# 🔨 4. Engenharia de features\n",
    "df['hour']       = df['timestamp'].dt.hour\n",
    "df['dayofyear']  = df['timestamp'].dt.dayofyear\n",
    "df['roll_moist'] = df['soil_moisture'].rolling(window=3, min_periods=1).mean()"
   ]
  },
  {
   "cell_type": "code",
   "execution_count": 31,
   "id": "e79d7c4e",
   "metadata": {},
   "outputs": [
    {
     "name": "stderr",
     "output_type": "stream",
     "text": [
      "C:\\Users\\Pichau\\AppData\\Local\\Temp\\ipykernel_9660\\1514059793.py:4: FutureWarning: Series.fillna with 'method' is deprecated and will raise in a future version. Use obj.ffill() or obj.bfill() instead.\n",
      "  y = df['soil_moisture'].shift(-1).fillna(method='ffill')\n"
     ]
    }
   ],
   "source": [
    "# 🔢 5. Definir X e y (prevendo próxima umidade)\n",
    "features = ['temperature','hour','dayofyear','roll_moist']\n",
    "X = df[features]\n",
    "y = df['soil_moisture'].shift(-1).fillna(method='ffill')"
   ]
  },
  {
   "cell_type": "code",
   "execution_count": 32,
   "id": "33288d36",
   "metadata": {},
   "outputs": [
    {
     "data": {
      "text/plain": [
       "['../models/aquamind_scaler.joblib']"
      ]
     },
     "execution_count": 32,
     "metadata": {},
     "output_type": "execute_result"
    }
   ],
   "source": [
    "# ⚖️ 6. Escalonamento\n",
    "scaler = StandardScaler()\n",
    "X_scaled = scaler.fit_transform(X)\n",
    "joblib.dump(scaler, '../models/aquamind_scaler.joblib')"
   ]
  },
  {
   "cell_type": "code",
   "execution_count": 33,
   "id": "4989604a",
   "metadata": {},
   "outputs": [],
   "source": [
    "# 🔀 7. Dividir treino/teste\n",
    "X_train, X_test, y_train, y_test = train_test_split(\n",
    "    X_scaled, y, test_size=0.2, random_state=42\n",
    ")"
   ]
  },
  {
   "cell_type": "code",
   "execution_count": 34,
   "id": "5e1a074c",
   "metadata": {},
   "outputs": [],
   "source": [
    "\n",
    "# 🧪 8. Configurar validação cruzada\n",
    "kf = KFold(n_splits=5, shuffle=True, random_state=42)"
   ]
  },
  {
   "cell_type": "code",
   "execution_count": 35,
   "id": "7e6b6e96",
   "metadata": {},
   "outputs": [],
   "source": [
    "# 📊 9. Definir modelos\n",
    "models = {\n",
    "    'LinearRegression': LinearRegression(),\n",
    "    'DecisionTree':     DecisionTreeRegressor(max_depth=5, random_state=42),\n",
    "    'MLPRegressor':     MLPRegressor(hidden_layer_sizes=(50,50), max_iter=500, random_state=42)\n",
    "}"
   ]
  },
  {
   "cell_type": "code",
   "execution_count": 36,
   "id": "2ea59482",
   "metadata": {},
   "outputs": [
    {
     "name": "stderr",
     "output_type": "stream",
     "text": [
      "c:\\Users\\Pichau\\AppData\\Local\\Programs\\Python\\Python311\\Lib\\site-packages\\sklearn\\neural_network\\_multilayer_perceptron.py:691: ConvergenceWarning: Stochastic Optimizer: Maximum iterations (500) reached and the optimization hasn't converged yet.\n",
      "  warnings.warn(\n",
      "c:\\Users\\Pichau\\AppData\\Local\\Programs\\Python\\Python311\\Lib\\site-packages\\sklearn\\neural_network\\_multilayer_perceptron.py:691: ConvergenceWarning: Stochastic Optimizer: Maximum iterations (500) reached and the optimization hasn't converged yet.\n",
      "  warnings.warn(\n",
      "c:\\Users\\Pichau\\AppData\\Local\\Programs\\Python\\Python311\\Lib\\site-packages\\sklearn\\neural_network\\_multilayer_perceptron.py:691: ConvergenceWarning: Stochastic Optimizer: Maximum iterations (500) reached and the optimization hasn't converged yet.\n",
      "  warnings.warn(\n",
      "c:\\Users\\Pichau\\AppData\\Local\\Programs\\Python\\Python311\\Lib\\site-packages\\sklearn\\neural_network\\_multilayer_perceptron.py:691: ConvergenceWarning: Stochastic Optimizer: Maximum iterations (500) reached and the optimization hasn't converged yet.\n",
      "  warnings.warn(\n"
     ]
    },
    {
     "name": "stdout",
     "output_type": "stream",
     "text": [
      "              model  CV_RMSE_mean  CV_RMSE_std\n",
      "0  LinearRegression      2.246268     0.131002\n",
      "1      DecisionTree      2.450051     0.160048\n",
      "2      MLPRegressor      2.532077     0.221420\n"
     ]
    },
    {
     "name": "stderr",
     "output_type": "stream",
     "text": [
      "c:\\Users\\Pichau\\AppData\\Local\\Programs\\Python\\Python311\\Lib\\site-packages\\sklearn\\neural_network\\_multilayer_perceptron.py:691: ConvergenceWarning: Stochastic Optimizer: Maximum iterations (500) reached and the optimization hasn't converged yet.\n",
      "  warnings.warn(\n"
     ]
    }
   ],
   "source": [
    "# 🔍 10. Avaliar modelos via cross-val\n",
    "results = []\n",
    "for name, mdl in models.items():\n",
    "    scores = cross_val_score(\n",
    "        mdl, X_train, y_train, cv=kf, scoring='neg_root_mean_squared_error'\n",
    "    )\n",
    "    results.append({\n",
    "        'model': name,\n",
    "        'CV_RMSE_mean': -scores.mean(),\n",
    "        'CV_RMSE_std':  scores.std()\n",
    "    })\n",
    "res_df = pd.DataFrame(results).sort_values('CV_RMSE_mean')\n",
    "print(res_df)\n"
   ]
  },
  {
   "cell_type": "code",
   "execution_count": 37,
   "id": "d1d7f7b5",
   "metadata": {},
   "outputs": [
    {
     "name": "stdout",
     "output_type": "stream",
     "text": [
      "Melhor modelo: LinearRegression\n",
      "Teste RMSE: 2.456\n",
      "Teste R²:   0.880\n"
     ]
    }
   ],
   "source": [
    "# 📈 11. Teste final no melhor modelo\n",
    "best_name  = res_df.iloc[0]['model']\n",
    "best_model = models[best_name]\n",
    "best_model.fit(X_train, y_train)\n",
    "y_pred     = best_model.predict(X_test)\n",
    "\n",
    "# Calcular RMSE manualmente\n",
    "mse_test   = mean_squared_error(y_test, y_pred)\n",
    "rmse_test  = np.sqrt(mse_test)\n",
    "r2_test    = r2_score(y_test, y_pred)\n",
    "\n",
    "print(f\"Melhor modelo: {best_name}\")\n",
    "print(f\"Teste RMSE: {rmse_test:.3f}\")\n",
    "print(f\"Teste R²:   {r2_test:.3f}\")\n"
   ]
  },
  {
   "cell_type": "markdown",
   "id": "e1ae5853",
   "metadata": {},
   "source": [
    "# 📝 12. Justificativa da escolha\n",
    "# Optamos por **{best_name}** pois apresentou o menor RMSE médio em validação cruzada,\n",
    "# boa estabilidade (baixo desvio padrão) e equilíbrio entre performance e interpretabilidade."
   ]
  },
  {
   "cell_type": "code",
   "execution_count": 38,
   "id": "f4db2b99",
   "metadata": {},
   "outputs": [
    {
     "data": {
      "text/plain": [
       "['../models/aquamind_model.joblib']"
      ]
     },
     "execution_count": 38,
     "metadata": {},
     "output_type": "execute_result"
    }
   ],
   "source": [
    "\n",
    "# 💾 13. Salvar modelo treinado\n",
    "joblib.dump(best_model, '../models/aquamind_model.joblib')"
   ]
  },
  {
   "cell_type": "markdown",
   "id": "748cbcf1",
   "metadata": {},
   "source": [
    "# Modelo de Acuracia\n",
    "## 14. Classificação binária: necessidade de irrigação\n",
    "\n",
    "Aqui vamos rotular como **1 (irrigar)** todas as leituras com umidade abaixo de 30%  \n",
    "e **0 (não irrigar)** caso contrário. Depois treinamos três classificadores  \n",
    "e comparamos a acurácia média em validação cruzada."
   ]
  },
  {
   "cell_type": "code",
   "execution_count": 39,
   "id": "4440ca38",
   "metadata": {},
   "outputs": [],
   "source": [
    "# 14.1 Criar y_binário\n",
    "# threshold = 30% de umidade => irrigar\n",
    "y_bin = (df['soil_moisture'] < 30).astype(int)\n"
   ]
  },
  {
   "cell_type": "code",
   "execution_count": 40,
   "id": "7435329a",
   "metadata": {},
   "outputs": [],
   "source": [
    "# As mesmas features já escalonadas em X_scaled\n",
    "X_cls = X_scaled.copy()\n"
   ]
  },
  {
   "cell_type": "code",
   "execution_count": 41,
   "id": "fd07a111",
   "metadata": {},
   "outputs": [],
   "source": [
    "# 14.2 Dividir em treino/teste\n",
    "Xc_train, Xc_test, yc_train, yc_test = train_test_split(\n",
    "    X_cls, y_bin, test_size=0.2, random_state=42, stratify=y_bin\n",
    ")"
   ]
  },
  {
   "cell_type": "code",
   "execution_count": 42,
   "id": "bbfce7c8",
   "metadata": {},
   "outputs": [],
   "source": [
    "# 14.3 Definir os classificadores\n",
    "classifiers = {\n",
    "    'LogisticRegression':    LogisticRegression(max_iter=200, random_state=42),\n",
    "    'DecisionTree':          DecisionTreeClassifier(max_depth=5, random_state=42),\n",
    "    'RandomForest':          RandomForestClassifier(n_estimators=100, random_state=42)\n",
    "}\n"
   ]
  },
  {
   "cell_type": "code",
   "execution_count": 43,
   "id": "f0608fc3",
   "metadata": {},
   "outputs": [
    {
     "data": {
      "text/html": [
       "<div>\n",
       "<style scoped>\n",
       "    .dataframe tbody tr th:only-of-type {\n",
       "        vertical-align: middle;\n",
       "    }\n",
       "\n",
       "    .dataframe tbody tr th {\n",
       "        vertical-align: top;\n",
       "    }\n",
       "\n",
       "    .dataframe thead th {\n",
       "        text-align: right;\n",
       "    }\n",
       "</style>\n",
       "<table border=\"1\" class=\"dataframe\">\n",
       "  <thead>\n",
       "    <tr style=\"text-align: right;\">\n",
       "      <th></th>\n",
       "      <th>model</th>\n",
       "      <th>CV_Accuracy</th>\n",
       "      <th>Std</th>\n",
       "    </tr>\n",
       "  </thead>\n",
       "  <tbody>\n",
       "    <tr>\n",
       "      <th>0</th>\n",
       "      <td>LogisticRegression</td>\n",
       "      <td>0.957182</td>\n",
       "      <td>0.024655</td>\n",
       "    </tr>\n",
       "    <tr>\n",
       "      <th>2</th>\n",
       "      <td>RandomForest</td>\n",
       "      <td>0.951610</td>\n",
       "      <td>0.015984</td>\n",
       "    </tr>\n",
       "    <tr>\n",
       "      <th>1</th>\n",
       "      <td>DecisionTree</td>\n",
       "      <td>0.944185</td>\n",
       "      <td>0.016497</td>\n",
       "    </tr>\n",
       "  </tbody>\n",
       "</table>\n",
       "</div>"
      ],
      "text/plain": [
       "                model  CV_Accuracy       Std\n",
       "0  LogisticRegression     0.957182  0.024655\n",
       "2        RandomForest     0.951610  0.015984\n",
       "1        DecisionTree     0.944185  0.016497"
      ]
     },
     "metadata": {},
     "output_type": "display_data"
    }
   ],
   "source": [
    "# 14.4 Avaliar com validação cruzada (acurácia)\n",
    "kf_cls = KFold(n_splits=5, shuffle=True, random_state=42)\n",
    "cls_results = []\n",
    "for name, clf in classifiers.items():\n",
    "    scores = cross_val_score(clf, Xc_train, yc_train,\n",
    "                             cv=kf_cls, scoring='accuracy')\n",
    "    cls_results.append({\n",
    "        'model':        name,\n",
    "        'CV_Accuracy':  scores.mean(),\n",
    "        'Std':          scores.std()\n",
    "    })\n",
    "cls_df = pd.DataFrame(cls_results).sort_values('CV_Accuracy', ascending=False)\n",
    "display(cls_df)"
   ]
  },
  {
   "cell_type": "markdown",
   "id": "7a29a625",
   "metadata": {},
   "source": [
    "## 15. Teste final do melhor classificador\n",
    "\n",
    "Treinar no conjunto completo de treino e avaliar a acurácia no `Xc_test`/`yc_test`.\n"
   ]
  },
  {
   "cell_type": "code",
   "execution_count": 44,
   "id": "0f8c6398",
   "metadata": {},
   "outputs": [
    {
     "name": "stdout",
     "output_type": "stream",
     "text": [
      "Melhor classificador: LogisticRegression\n",
      "Acurácia de teste:    0.956\n"
     ]
    }
   ],
   "source": [
    "# 15.1 Selecionar melhor pelo CV\n",
    "best_cls_name = cls_df.iloc[0]['model']\n",
    "best_clf     = classifiers[best_cls_name]\n",
    "\n",
    "# 15.2 Treinar e prever\n",
    "best_clf.fit(Xc_train, yc_train)\n",
    "yc_pred = best_clf.predict(Xc_test)\n",
    "\n",
    "# 15.3 Calcular acurácia\n",
    "acc_test = accuracy_score(yc_test, yc_pred)\n",
    "print(f\"Melhor classificador: {best_cls_name}\")\n",
    "print(f\"Acurácia de teste:    {acc_test:.3f}\")\n"
   ]
  }
 ],
 "metadata": {
  "kernelspec": {
   "display_name": "Python 3",
   "language": "python",
   "name": "python3"
  },
  "language_info": {
   "codemirror_mode": {
    "name": "ipython",
    "version": 3
   },
   "file_extension": ".py",
   "mimetype": "text/x-python",
   "name": "python",
   "nbconvert_exporter": "python",
   "pygments_lexer": "ipython3",
   "version": "3.11.9"
  }
 },
 "nbformat": 4,
 "nbformat_minor": 5
}
