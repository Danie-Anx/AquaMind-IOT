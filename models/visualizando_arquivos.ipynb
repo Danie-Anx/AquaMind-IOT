{
 "cells": [
  {
   "cell_type": "code",
   "execution_count": 2,
   "id": "f44a4d99",
   "metadata": {},
   "outputs": [
    {
     "name": "stdout",
     "output_type": "stream",
     "text": [
      "=== StandardScaler ===\n",
      "Médias usadas no StandardScaler:\n",
      " [25.09385829 11.5         4.         42.10600143]\n",
      "Variâncias usadas no StandardScaler:\n",
      " [13.08051425 47.91666667  4.         45.69817309]\n",
      "\n",
      "=== Modelo Carregado ===\n",
      "Tipo de modelo: <class 'sklearn.linear_model._base.LinearRegression'>\n",
      "Hiper-parâmetros: {'copy_X': True, 'fit_intercept': True, 'n_jobs': None, 'positive': False}\n"
     ]
    }
   ],
   "source": [
    "# visualizando_arquivos.ipynb\n",
    "\n",
    "import joblib\n",
    "\n",
    "# 1. Carrega o scaler e o modelo (está na mesma pasta que este notebook)\n",
    "scaler = joblib.load('aquamind_scaler.joblib')\n",
    "model  = joblib.load('aquamind_model.joblib')\n",
    "\n",
    "# 2. Inspeciona o StandardScaler\n",
    "print(\"=== StandardScaler ===\")\n",
    "print(\"Médias usadas no StandardScaler:\\n\", scaler.mean_)\n",
    "print(\"Variâncias usadas no StandardScaler:\\n\", scaler.var_)\n",
    "\n",
    "# 3. Se for DecisionTreeRegressor, mostra importâncias de feature\n",
    "if hasattr(model, 'feature_importances_'):\n",
    "    print(\"\\n=== DecisionTreeRegressor Feature Importances ===\")\n",
    "    for feat, imp in zip(['temperature','hour','dayofyear','roll_moist'], model.feature_importances_):\n",
    "        print(f\"{feat:12s}: {imp:.4f}\")\n",
    "\n",
    "# 4. Se for MLPRegressor, mostra pesos das camadas\n",
    "if hasattr(model, 'coefs_'):\n",
    "    print(\"\\n=== MLPRegressor Weights by Layer ===\")\n",
    "    for i, coef in enumerate(model.coefs_):\n",
    "        print(f\" Layer {i} weights shape {coef.shape}\")\n",
    "        print(coef)\n",
    "\n",
    "# 5. Tipo e hiper-parâmetros do modelo\n",
    "print(\"\\n=== Modelo Carregado ===\")\n",
    "print(\"Tipo de modelo:\", type(model))\n",
    "print(\"Hiper-parâmetros:\", model.get_params())\n"
   ]
  }
 ],
 "metadata": {
  "kernelspec": {
   "display_name": "Python 3",
   "language": "python",
   "name": "python3"
  },
  "language_info": {
   "codemirror_mode": {
    "name": "ipython",
    "version": 3
   },
   "file_extension": ".py",
   "mimetype": "text/x-python",
   "name": "python",
   "nbconvert_exporter": "python",
   "pygments_lexer": "ipython3",
   "version": "3.11.9"
  }
 },
 "nbformat": 4,
 "nbformat_minor": 5
}
